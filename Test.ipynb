{
 "cells": [
  {
   "cell_type": "code",
   "execution_count": 1,
   "id": "1a2721da",
   "metadata": {},
   "outputs": [],
   "source": [
    "%load_ext autoreload\n",
    "%autoreload 2"
   ]
  },
  {
   "cell_type": "code",
   "execution_count": 3,
   "id": "6cf83411",
   "metadata": {},
   "outputs": [
    {
     "data": {
      "text/plain": [
       "(2024, 55049.0, 510.0)"
      ]
     },
     "execution_count": 3,
     "metadata": {},
     "output_type": "execute_result"
    }
   ],
   "source": [
    "from bo_nalog_client import NalogClient\n",
    "\n",
    "client = NalogClient()\n",
    "await client.get_last_year_revenue_profit(7735146464)"
   ]
  },
  {
   "cell_type": "code",
   "execution_count": null,
   "id": "0f531048",
   "metadata": {},
   "outputs": [],
   "source": []
  },
  {
   "cell_type": "code",
   "execution_count": null,
   "id": "9978b635",
   "metadata": {},
   "outputs": [],
   "source": []
  }
 ],
 "metadata": {
  "kernelspec": {
   "display_name": "Python 3",
   "language": "python",
   "name": "python3"
  },
  "language_info": {
   "codemirror_mode": {
    "name": "ipython",
    "version": 3
   },
   "file_extension": ".py",
   "mimetype": "text/x-python",
   "name": "python",
   "nbconvert_exporter": "python",
   "pygments_lexer": "ipython3",
   "version": "3.10.8"
  }
 },
 "nbformat": 4,
 "nbformat_minor": 5
}
